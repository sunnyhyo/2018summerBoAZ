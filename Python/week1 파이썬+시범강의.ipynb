{
 "cells": [
  {
   "cell_type": "markdown",
   "metadata": {},
   "source": [
    "# 자료형\n",
    "## 1. 숫자형(int,float)\n",
    "\n",
    "숫자형은 말 그대로 우리가 알고있는 숫자형임."
   ]
  },
  {
   "cell_type": "code",
   "execution_count": 3,
   "metadata": {},
   "outputs": [],
   "source": [
    "a = 2\n",
    "b = 3\n",
    "c = 2.4\n",
    "d = 4.4"
   ]
  },
  {
   "cell_type": "code",
   "execution_count": 4,
   "metadata": {},
   "outputs": [
    {
     "name": "stdout",
     "output_type": "stream",
     "text": [
      "a+b =  5\n",
      "a+b의 자료형은 <class 'int'>\n"
     ]
    }
   ],
   "source": [
    "print('a+b = ',a+b)\n",
    "print('a+b의 자료형은', type(a+b))"
   ]
  },
  {
   "cell_type": "code",
   "execution_count": 5,
   "metadata": {},
   "outputs": [
    {
     "data": {
      "text/plain": [
       "5.4"
      ]
     },
     "execution_count": 5,
     "metadata": {},
     "output_type": "execute_result"
    }
   ],
   "source": [
    "b+c"
   ]
  },
  {
   "cell_type": "code",
   "execution_count": 6,
   "metadata": {
    "scrolled": false
   },
   "outputs": [
    {
     "data": {
      "text/plain": [
       "float"
      ]
     },
     "execution_count": 6,
     "metadata": {},
     "output_type": "execute_result"
    }
   ],
   "source": [
    "type(b+c)"
   ]
  },
  {
   "cell_type": "code",
   "execution_count": 7,
   "metadata": {},
   "outputs": [
    {
     "data": {
      "text/plain": [
       "1.5"
      ]
     },
     "execution_count": 7,
     "metadata": {},
     "output_type": "execute_result"
    }
   ],
   "source": [
    "b/a"
   ]
  },
  {
   "cell_type": "code",
   "execution_count": 8,
   "metadata": {},
   "outputs": [
    {
     "data": {
      "text/plain": [
       "8"
      ]
     },
     "execution_count": 8,
     "metadata": {},
     "output_type": "execute_result"
    }
   ],
   "source": [
    "a**b"
   ]
  },
  {
   "cell_type": "markdown",
   "metadata": {},
   "source": [
    "### 나눗셈 후 나머지를 변환하는 연산자"
   ]
  },
  {
   "cell_type": "code",
   "execution_count": 9,
   "metadata": {},
   "outputs": [
    {
     "data": {
      "text/plain": [
       "1"
      ]
     },
     "execution_count": 9,
     "metadata": {},
     "output_type": "execute_result"
    }
   ],
   "source": [
    "b%a"
   ]
  },
  {
   "cell_type": "markdown",
   "metadata": {},
   "source": [
    "### 나눗셈 후 소수점 아랫자리를 버리는 연산자"
   ]
  },
  {
   "cell_type": "code",
   "execution_count": 10,
   "metadata": {},
   "outputs": [
    {
     "data": {
      "text/plain": [
       "2.0"
      ]
     },
     "execution_count": 10,
     "metadata": {},
     "output_type": "execute_result"
    }
   ],
   "source": [
    "d//a"
   ]
  },
  {
   "cell_type": "markdown",
   "metadata": {},
   "source": [
    "## 2. 문자형(str)"
   ]
  },
  {
   "cell_type": "code",
   "execution_count": 11,
   "metadata": {},
   "outputs": [],
   "source": [
    "c1 = \"B'oa'z\"\n",
    "c2 = 'b\"Oa\"z'\n",
    "c3 = \"\"\"b'\n",
    "o'\n",
    "A'\n",
    "z'\"\"\"\n",
    "c4 = '''b\n",
    "o\"\n",
    "a\"\n",
    "Z\"'''"
   ]
  },
  {
   "cell_type": "code",
   "execution_count": 116,
   "metadata": {},
   "outputs": [
    {
     "data": {
      "text/plain": [
       "\"B'oa'z\""
      ]
     },
     "execution_count": 116,
     "metadata": {},
     "output_type": "execute_result"
    }
   ],
   "source": [
    "c1"
   ]
  },
  {
   "cell_type": "code",
   "execution_count": 117,
   "metadata": {},
   "outputs": [
    {
     "data": {
      "text/plain": [
       "'b\"Oa\"z'"
      ]
     },
     "execution_count": 117,
     "metadata": {},
     "output_type": "execute_result"
    }
   ],
   "source": [
    "c2"
   ]
  },
  {
   "cell_type": "code",
   "execution_count": 68,
   "metadata": {},
   "outputs": [
    {
     "data": {
      "text/plain": [
       "\"b'\\no'\\nA'\\nz'\""
      ]
     },
     "execution_count": 68,
     "metadata": {},
     "output_type": "execute_result"
    }
   ],
   "source": [
    "c3"
   ]
  },
  {
   "cell_type": "code",
   "execution_count": 12,
   "metadata": {
    "scrolled": true
   },
   "outputs": [
    {
     "data": {
      "text/plain": [
       "'b\\no\"\\na\"\\nZ\"'"
      ]
     },
     "execution_count": 12,
     "metadata": {},
     "output_type": "execute_result"
    }
   ],
   "source": [
    "c4"
   ]
  },
  {
   "cell_type": "markdown",
   "metadata": {},
   "source": [
    "Escape code\n",
    "\n",
    "-프로그래밍할 때 사용할 수 있도록 미리 정의해 둔 \"문자 조합\"이다. 주로 출력물을 보기 좋게 정렬하는 용도로 이용된다.\n",
    "\n",
    "- \\n    ->  줄바꿈(Enter) => \"\"\" 나 '''을 이용해도 됨\n",
    "- \\t    ->  수평탭\n",
    "\n",
    "\n",
    "- \\000 -> Null문자\n",
    "- \\\\   ->   \"\\\"\n",
    "- \\'   ->   인용부호\n",
    "- \\\"   ->   인용부호"
   ]
  },
  {
   "cell_type": "code",
   "execution_count": 14,
   "metadata": {},
   "outputs": [],
   "source": [
    "c1 = \"Boaz\"\n",
    "c2 = 'bOaz'\n",
    "\n",
    "c3 = \"\"\"b\n",
    "o\n",
    "A\n",
    "z\"\"\"\n",
    "c4 = '''b\n",
    "o\n",
    "a\n",
    "Z'''"
   ]
  },
  {
   "cell_type": "code",
   "execution_count": 15,
   "metadata": {},
   "outputs": [
    {
     "data": {
      "text/plain": [
       "'BoazbOaz'"
      ]
     },
     "execution_count": 15,
     "metadata": {},
     "output_type": "execute_result"
    }
   ],
   "source": [
    "c1 + c2"
   ]
  },
  {
   "cell_type": "code",
   "execution_count": 27,
   "metadata": {},
   "outputs": [
    {
     "data": {
      "text/plain": [
       "'BoazBoaz'"
      ]
     },
     "execution_count": 27,
     "metadata": {},
     "output_type": "execute_result"
    }
   ],
   "source": [
    "c1*2"
   ]
  },
  {
   "cell_type": "markdown",
   "metadata": {},
   "source": [
    "### 문자열 인덱싱, 슬라이싱\n",
    "#### 인덱싱 : 문자열에서 글자 1개 검색 작성법 : 변수[자릿수]\n",
    "#### 슬라이싱 : 문자열 중 글자 1개 또는 여러개 잘라내기 작성법 : 변수[범위]"
   ]
  },
  {
   "cell_type": "markdown",
   "metadata": {},
   "source": [
    "#### *****파이썬의 숫자 세는법\n",
    "\n",
    "##### 1.0부터 센다\n",
    "##### 2.제일 마지막 껀 포함 안한다. "
   ]
  },
  {
   "cell_type": "code",
   "execution_count": 23,
   "metadata": {},
   "outputs": [],
   "source": [
    "c1 = \"Boaz\"\n",
    "c2 = 'bOaz'\n",
    "\n",
    "c3 = \"\"\"b\n",
    "o\n",
    "A\n",
    "z\"\"\"\n",
    "c4 = '''b\n",
    "o\n",
    "a\n",
    "Z'''"
   ]
  },
  {
   "cell_type": "code",
   "execution_count": 24,
   "metadata": {},
   "outputs": [
    {
     "data": {
      "text/plain": [
       "'B'"
      ]
     },
     "execution_count": 24,
     "metadata": {},
     "output_type": "execute_result"
    }
   ],
   "source": [
    "c1[0]"
   ]
  },
  {
   "cell_type": "code",
   "execution_count": 25,
   "metadata": {},
   "outputs": [
    {
     "data": {
      "text/plain": [
       "'Boaz'"
      ]
     },
     "execution_count": 25,
     "metadata": {},
     "output_type": "execute_result"
    }
   ],
   "source": [
    "c1[0:4]"
   ]
  },
  {
   "cell_type": "code",
   "execution_count": 26,
   "metadata": {},
   "outputs": [
    {
     "name": "stdout",
     "output_type": "stream",
     "text": [
      "B O A Z\n"
     ]
    }
   ],
   "source": [
    "print(c1[0],c2[1],c3[4],c4[6])"
   ]
  },
  {
   "cell_type": "code",
   "execution_count": 22,
   "metadata": {},
   "outputs": [
    {
     "name": "stdout",
     "output_type": "stream",
     "text": [
      "B O A Z\n"
     ]
    }
   ],
   "source": [
    "print(c1[-4],c2[-3],c3[-3],c4[-1])"
   ]
  },
  {
   "cell_type": "code",
   "execution_count": 32,
   "metadata": {},
   "outputs": [],
   "source": [
    "joa = '''이제 괜찮니 너무 힘들었다며\n",
    "너의 그 마무리가\n",
    "고작 이별뿐일 거라\n",
    "우린 괜찮다면서\n",
    "\n",
    "잘 지낸다고 전해 들었지?\n",
    "내겐 정말 참 좋은 사람 만나\n",
    "잘 지내고 있어\n",
    "마냥 자상한 사람\n",
    "\n",
    "잘 됐어 우린 힘들었잖아\n",
    "서로 다름을 견뎌 내기엔\n",
    "\n",
    "좋아 사랑해서 사랑을 시작해서\n",
    "다신 눈물 흘리지 않을 거야\n",
    "그 기억은 아직도 힘들어\n",
    "헤어 나오지 못해\n",
    "니 소식 들린 날은 더\n",
    "좋아 참 그 사람\n",
    "한없이 날 이해해줘\n",
    "넌 날 몰라도 정말 몰라줬어\n",
    "내 아픔의 단 십 분의 일만이라도\n",
    "아프다 날 잊어줘'''"
   ]
  },
  {
   "cell_type": "code",
   "execution_count": 33,
   "metadata": {},
   "outputs": [
    {
     "name": "stdout",
     "output_type": "stream",
     "text": [
      "이제 괜찮니 너무 힘들었다며 \n",
      " 좋아 사랑해서 사랑을 시작해서\n"
     ]
    }
   ],
   "source": [
    "print(joa[0:15],'\\n',joa[128:144])"
   ]
  },
  {
   "cell_type": "markdown",
   "metadata": {},
   "source": [
    "## 문자열 포매팅\n",
    "### 문자열 포매팅이란 쉽게 말해 문자열 내에 어떤 값을 삽입하는 방법"
   ]
  },
  {
   "cell_type": "code",
   "execution_count": 47,
   "metadata": {},
   "outputs": [
    {
     "data": {
      "text/plain": [
       "'BOAZ 7th Conference'"
      ]
     },
     "execution_count": 47,
     "metadata": {},
     "output_type": "execute_result"
    }
   ],
   "source": [
    "'BOAZ %dth Conference' % 7"
   ]
  },
  {
   "cell_type": "markdown",
   "metadata": {},
   "source": [
    "문자포멧코드\n",
    "- %s 문자열 (String)\n",
    "- %c 문자 한개(character)\n",
    "- %d 정수 (Integer)\n",
    "- %f 부동소수 (floating-point)\n",
    "- %o 8진수\n",
    "- %x 16진수\n",
    "- %% Literal % (문자 '%s' 자체)"
   ]
  },
  {
   "cell_type": "code",
   "execution_count": 48,
   "metadata": {},
   "outputs": [
    {
     "data": {
      "text/plain": [
       "'BOAZ 7th Conference'"
      ]
     },
     "execution_count": 48,
     "metadata": {},
     "output_type": "execute_result"
    }
   ],
   "source": [
    "'BOAZ {0}th Conference'.format(7)"
   ]
  },
  {
   "cell_type": "code",
   "execution_count": 49,
   "metadata": {},
   "outputs": [
    {
     "data": {
      "text/plain": [
       "'BOAZ 7th Conference'"
      ]
     },
     "execution_count": 49,
     "metadata": {},
     "output_type": "execute_result"
    }
   ],
   "source": [
    "'BOAZ {num}th Conference'.format(num = 7)"
   ]
  },
  {
   "cell_type": "markdown",
   "metadata": {},
   "source": [
    "### 문자열 관련 함수 \n",
    "### 작성법 : 변수.함수"
   ]
  },
  {
   "cell_type": "code",
   "execution_count": 50,
   "metadata": {},
   "outputs": [
    {
     "data": {
      "text/plain": [
       "'하이용!'"
      ]
     },
     "execution_count": 50,
     "metadata": {},
     "output_type": "execute_result"
    }
   ],
   "source": [
    "'        하이용!        '.strip()   #lstrip(), rstrip()"
   ]
  },
  {
   "cell_type": "code",
   "execution_count": 79,
   "metadata": {},
   "outputs": [
    {
     "data": {
      "text/plain": [
       "'바이용!'"
      ]
     },
     "execution_count": 79,
     "metadata": {},
     "output_type": "execute_result"
    }
   ],
   "source": [
    "'하이용!'.replace('하이','바이')"
   ]
  },
  {
   "cell_type": "code",
   "execution_count": 81,
   "metadata": {},
   "outputs": [
    {
     "data": {
      "text/plain": [
       "['인정?', '어', '인정~']"
      ]
     },
     "execution_count": 81,
     "metadata": {},
     "output_type": "execute_result"
    }
   ],
   "source": [
    "'인정? 어 인정~'.split()\n",
    "# default(기본값)는 ' ' 즉 공백!"
   ]
  },
  {
   "cell_type": "code",
   "execution_count": 82,
   "metadata": {},
   "outputs": [
    {
     "data": {
      "text/plain": [
       "['인정? ', ' 인정~']"
      ]
     },
     "execution_count": 82,
     "metadata": {},
     "output_type": "execute_result"
    }
   ],
   "source": [
    "'인정? 어 인정~'.split('어')\n"
   ]
  },
  {
   "cell_type": "markdown",
   "metadata": {},
   "source": [
    "## 리스트(list)\n",
    "\n",
    "### [ ]속 안에 작성"
   ]
  },
  {
   "cell_type": "code",
   "execution_count": 35,
   "metadata": {},
   "outputs": [],
   "source": [
    "Apink =['박초롱', '윤보미', '정은지', '손나은', '김남주', '오하영']\n",
    "Girlsday = ['소진','유라','민아','혜리']\n",
    "idols = [Apink,Girlsday]"
   ]
  },
  {
   "cell_type": "code",
   "execution_count": 36,
   "metadata": {},
   "outputs": [
    {
     "data": {
      "text/plain": [
       "'손나은'"
      ]
     },
     "execution_count": 36,
     "metadata": {},
     "output_type": "execute_result"
    }
   ],
   "source": [
    "Most_Favorite = Apink[3]\n",
    "Most_Favorite"
   ]
  },
  {
   "cell_type": "code",
   "execution_count": 37,
   "metadata": {},
   "outputs": [
    {
     "data": {
      "text/plain": [
       "'혜리'"
      ]
     },
     "execution_count": 37,
     "metadata": {},
     "output_type": "execute_result"
    }
   ],
   "source": [
    "Second_Favorite = idols[1][3]  #list 안에 list 존재\n",
    "Second_Favorite"
   ]
  },
  {
   "cell_type": "code",
   "execution_count": 38,
   "metadata": {},
   "outputs": [
    {
     "name": "stdout",
     "output_type": "stream",
     "text": [
      "혜리는 응팔에서 참 귀여웠지\n"
     ]
    }
   ],
   "source": [
    "print(Second_Favorite+'는 응팔에서 참 귀여웠지')"
   ]
  },
  {
   "cell_type": "code",
   "execution_count": 86,
   "metadata": {},
   "outputs": [
    {
     "data": {
      "text/plain": [
       "['박초롱', '윤보미', '정은지', '손나은', '김남주', '오하영', '소진', '유라', '민아', '혜리']"
      ]
     },
     "execution_count": 86,
     "metadata": {},
     "output_type": "execute_result"
    }
   ],
   "source": [
    "idols = Apink+Girlsday\n",
    "idols"
   ]
  },
  {
   "cell_type": "code",
   "execution_count": 87,
   "metadata": {},
   "outputs": [],
   "source": [
    "Redvelvet = ['아이린','슬기','웬디','조이','예리']"
   ]
  },
  {
   "cell_type": "code",
   "execution_count": 88,
   "metadata": {},
   "outputs": [
    {
     "data": {
      "text/plain": [
       "[['박초롱', '윤보미', '정은지', '손나은', '김남주', '오하영'],\n",
       " ['소진', '유라', '민아', '혜리'],\n",
       " ['아이린', '슬기', '웬디', '조이', '예리']]"
      ]
     },
     "execution_count": 88,
     "metadata": {},
     "output_type": "execute_result"
    }
   ],
   "source": [
    "idols = [Apink,Girlsday]\n",
    "idols.append(Redvelvet)\n",
    "idols"
   ]
  },
  {
   "cell_type": "code",
   "execution_count": 89,
   "metadata": {},
   "outputs": [
    {
     "data": {
      "text/plain": [
       "0"
      ]
     },
     "execution_count": 89,
     "metadata": {},
     "output_type": "execute_result"
    }
   ],
   "source": [
    "Redvelvet.index('아이린')"
   ]
  },
  {
   "cell_type": "code",
   "execution_count": 14,
   "metadata": {},
   "outputs": [
    {
     "name": "stdout",
     "output_type": "stream",
     "text": [
      "아이린 없는 ['슬기', '웬디', '조이', '예리']\n",
      "아이린이 돌아온 ['슬기', '웬디', '조이', '아이린', '예리']\n"
     ]
    }
   ],
   "source": [
    "Redvelvet = ['아이린','슬기','웬디','조이','예리']\n",
    "Redvelvet.remove('아이린')\n",
    "print('아이린 없는',Redvelvet)\n",
    "Redvelvet.insert(3,'아이린')\n",
    "print('아이린이 돌아온',Redvelvet)"
   ]
  },
  {
   "cell_type": "markdown",
   "metadata": {},
   "source": [
    "## 딕셔너리 -> 판다스 데이터프레임\n",
    "\n",
    "#### -대응 관계를 나타낼 수 있는 자료형\n",
    "#### -{}속에 작성, {key:value,key,value,~}"
   ]
  },
  {
   "cell_type": "code",
   "execution_count": 15,
   "metadata": {},
   "outputs": [],
   "source": [
    "BOAZ_admin = {'운영지원팀':'이시은',\n",
    "              '기획팀':'이혜원',\n",
    "              '디자인팀':'심지원',\n",
    "              '자료연구팀':'박성현',\n",
    "              '대외협력팀':'신상윤',\n",
    "              '공동대표':['김강민','최연식']}"
   ]
  },
  {
   "cell_type": "code",
   "execution_count": 92,
   "metadata": {},
   "outputs": [
    {
     "data": {
      "text/plain": [
       "'이시은'"
      ]
     },
     "execution_count": 92,
     "metadata": {},
     "output_type": "execute_result"
    }
   ],
   "source": [
    "BOAZ_admin['운영지원팀']"
   ]
  },
  {
   "cell_type": "code",
   "execution_count": 93,
   "metadata": {},
   "outputs": [
    {
     "data": {
      "text/plain": [
       "['김강민', '최연식']"
      ]
     },
     "execution_count": 93,
     "metadata": {},
     "output_type": "execute_result"
    }
   ],
   "source": [
    "BOAZ_admin['공동대표']"
   ]
  },
  {
   "cell_type": "code",
   "execution_count": 94,
   "metadata": {},
   "outputs": [
    {
     "data": {
      "text/plain": [
       "dict_keys(['운영지원팀', '기획팀', '디자인팀', '자료연구팀', '대외협력팀', '공동대표'])"
      ]
     },
     "execution_count": 94,
     "metadata": {},
     "output_type": "execute_result"
    }
   ],
   "source": [
    "BOAZ_admin.keys()"
   ]
  },
  {
   "cell_type": "code",
   "execution_count": 95,
   "metadata": {},
   "outputs": [
    {
     "data": {
      "text/plain": [
       "dict_values(['이시은', '이혜원', '심지원', '박성현', '신상윤', ['김강민', '최연식']])"
      ]
     },
     "execution_count": 95,
     "metadata": {},
     "output_type": "execute_result"
    }
   ],
   "source": [
    "BOAZ_admin.values()"
   ]
  },
  {
   "cell_type": "code",
   "execution_count": 96,
   "metadata": {},
   "outputs": [
    {
     "data": {
      "text/plain": [
       "dict_items([('운영지원팀', '이시은'), ('기획팀', '이혜원'), ('디자인팀', '심지원'), ('자료연구팀', '박성현'), ('대외협력팀', '신상윤'), ('공동대표', ['김강민', '최연식'])])"
      ]
     },
     "execution_count": 96,
     "metadata": {},
     "output_type": "execute_result"
    }
   ],
   "source": [
    "BOAZ_admin.items()"
   ]
  },
  {
   "cell_type": "markdown",
   "metadata": {},
   "source": [
    "## 참거짓!(불자료형) - 참과 거짓을 나타내는 자료형\n",
    "- 비어있으면 대부분 거짓 : '' \"\" [] {} () 0 None\n",
    "- Apink == Girlsday와 같은 것도 거짓!\n",
    "- Apink != Apink도 거짓!\n",
    "- python에서 =와 ==의 차이?"
   ]
  },
  {
   "cell_type": "markdown",
   "metadata": {},
   "source": [
    "## 제어문(for, while, if)"
   ]
  },
  {
   "cell_type": "markdown",
   "metadata": {},
   "source": [
    "1. for\n",
    "어떤 것에서  속한 것들아 반복작업해!\n",
    "\n",
    "작성법:\n",
    "for 속한 것들 in 어떤것에서:\n",
    "\n",
    "    (반복작업할 무엇인가를 지시)"
   ]
  },
  {
   "cell_type": "markdown",
   "metadata": {},
   "source": [
    "#### 문제 1부터 10까지의 자연수를 출력하라"
   ]
  },
  {
   "cell_type": "code",
   "execution_count": 21,
   "metadata": {},
   "outputs": [],
   "source": [
    "number = [1,2,3,4,5,6,7,8,9,10]  # print ----- 써도 된지만 귀찮다.."
   ]
  },
  {
   "cell_type": "code",
   "execution_count": 2,
   "metadata": {},
   "outputs": [
    {
     "name": "stdout",
     "output_type": "stream",
     "text": [
      "1\n",
      "2\n",
      "3\n",
      "4\n",
      "5\n",
      "6\n",
      "7\n",
      "8\n",
      "9\n",
      "10\n"
     ]
    }
   ],
   "source": [
    "for i in number: # number의 각 i들에 대해. 마지막에 :이 들어감에 주의합시다 반드시 써야합니다.\n",
    "    print(i)     # 그 i를 print해라. 앞에 들여쓰기(identation)에 주의!!! 반드시 들여써야 합니다."
   ]
  },
  {
   "cell_type": "code",
   "execution_count": 22,
   "metadata": {},
   "outputs": [
    {
     "name": "stdout",
     "output_type": "stream",
     "text": [
      "1\n",
      "2\n",
      "3\n",
      "4\n",
      "5\n",
      "6\n",
      "7\n",
      "8\n",
      "9\n",
      "10\n"
     ]
    }
   ],
   "source": [
    "for i in number:\n",
    "    print(i)"
   ]
  },
  {
   "cell_type": "markdown",
   "metadata": {},
   "source": [
    "### 1부터 100까지를 출력하라"
   ]
  },
  {
   "cell_type": "markdown",
   "metadata": {},
   "source": [
    "#### 파이썬 내장 함수 range(범위)"
   ]
  },
  {
   "cell_type": "code",
   "execution_count": 40,
   "metadata": {},
   "outputs": [
    {
     "name": "stdout",
     "output_type": "stream",
     "text": [
      "0 1 2 3 4 5 6 7 8 9 10 11 12 13 14 15 16 17 18 19 20 21 22 23 24 25 26 27 28 29 30 31 32 33 34 35 36 37 38 39 40 41 42 43 44 45 46 47 48 49 50 51 52 53 54 55 56 57 58 59 60 61 62 63 64 65 66 67 68 69 70 71 72 73 74 75 76 77 78 79 80 81 82 83 84 85 86 87 88 89 90 91 92 93 94 95 96 97 98 99\n"
     ]
    }
   ],
   "source": [
    "print(*range(100)) # 앞에 있는 *은 일단 넘어가세요"
   ]
  },
  {
   "cell_type": "code",
   "execution_count": 27,
   "metadata": {},
   "outputs": [
    {
     "name": "stdout",
     "output_type": "stream",
     "text": [
      "1 2 3 4 5 6 7 8 9 10 11 12 13 14 15 16 17 18 19 20 21 22 23 24 25 26 27 28 29 30 31 32 33 34 35 36 37 38 39 40 41 42 43 44 45 46 47 48 49 50 51 52 53 54 55 56 57 58 59 60 61 62 63 64 65 66 67 68 69 70 71 72 73 74 75 76 77 78 79 80 81 82 83 84 85 86 87 88 89 90 91 92 93 94 95 96 97 98 99 100\n"
     ]
    }
   ],
   "source": [
    "print(*range(1,101))"
   ]
  },
  {
   "cell_type": "markdown",
   "metadata": {},
   "source": [
    "#### 파이썬의 숫자 세는법\n",
    "\n",
    "##### 1.0부터 센다\n",
    "##### 2.제일 마지막 껀 포함 안한다.\n",
    "\n",
    "##### range(a,b) => a에서 b-1까지!"
   ]
  },
  {
   "cell_type": "code",
   "execution_count": 90,
   "metadata": {},
   "outputs": [
    {
     "name": "stdout",
     "output_type": "stream",
     "text": [
      "1\n",
      "2\n",
      "3\n",
      "4\n",
      "5\n",
      "6\n",
      "7\n",
      "8\n",
      "9\n",
      "10\n",
      "11\n",
      "12\n",
      "13\n",
      "14\n",
      "15\n",
      "16\n",
      "17\n",
      "18\n",
      "19\n",
      "20\n",
      "21\n",
      "22\n",
      "23\n",
      "24\n",
      "25\n",
      "26\n",
      "27\n",
      "28\n",
      "29\n",
      "30\n",
      "31\n",
      "32\n",
      "33\n",
      "34\n",
      "35\n",
      "36\n",
      "37\n",
      "38\n",
      "39\n",
      "40\n",
      "41\n",
      "42\n",
      "43\n",
      "44\n",
      "45\n",
      "46\n",
      "47\n",
      "48\n",
      "49\n",
      "50\n",
      "51\n",
      "52\n",
      "53\n",
      "54\n",
      "55\n",
      "56\n",
      "57\n",
      "58\n",
      "59\n",
      "60\n",
      "61\n",
      "62\n",
      "63\n",
      "64\n",
      "65\n",
      "66\n",
      "67\n",
      "68\n",
      "69\n",
      "70\n",
      "71\n",
      "72\n",
      "73\n",
      "74\n",
      "75\n",
      "76\n",
      "77\n",
      "78\n",
      "79\n",
      "80\n",
      "81\n",
      "82\n",
      "83\n",
      "84\n",
      "85\n",
      "86\n",
      "87\n",
      "88\n",
      "89\n",
      "90\n",
      "91\n",
      "92\n",
      "93\n",
      "94\n",
      "95\n",
      "96\n",
      "97\n",
      "98\n",
      "99\n",
      "100\n"
     ]
    }
   ],
   "source": [
    "for i in range(1,101):\n",
    "    print(i)"
   ]
  },
  {
   "cell_type": "code",
   "execution_count": 29,
   "metadata": {},
   "outputs": [
    {
     "name": "stdout",
     "output_type": "stream",
     "text": [
      "1 2 3 4 5 6 7 8 9 10 11 12 13 14 15 16 17 18 19 20 21 22 23 24 25 26 27 28 29 30 31 32 33 34 35 36 37 38 39 40 41 42 43 44 45 46 47 48 49 50 51 52 53 54 55 56 57 58 59 60 61 62 63 64 65 66 67 68 69 70 71 72 73 74 75 76 77 78 79 80 81 82 83 84 85 86 87 88 89 90 91 92 93 94 95 96 97 98 99 "
     ]
    }
   ],
   "source": [
    "for i in range(1,100):\n",
    "    print(i , end=' ')"
   ]
  },
  {
   "cell_type": "markdown",
   "metadata": {},
   "source": [
    "### 2. if문 \n",
    "##### 조건을 주고 조건에 맞을때만 실행하고 싶을때\n",
    "##### 작성법:\n",
    "#### if 조건:\n",
    "#####         수행할 무언가\n",
    "\n",
    "#### 조건이 참일때만 수행"
   ]
  },
  {
   "cell_type": "markdown",
   "metadata": {},
   "source": [
    "### 조건을 더 주고자 한다\n",
    "#### elif문을 추가한다\n",
    "#### 조건에 해당하지 않는 나머지 모든 경우 => else"
   ]
  },
  {
   "cell_type": "code",
   "execution_count": 13,
   "metadata": {},
   "outputs": [
    {
     "name": "stdout",
     "output_type": "stream",
     "text": [
      "글자길이가 15개보다 큽니다\n"
     ]
    }
   ],
   "source": [
    "text = \"BOAZ는 Bigdata is Our A to Z\"\n",
    "if len(text)< 5:\n",
    "    print(text)\n",
    "elif len(text)< 15:\n",
    "    print('글자길이가 15개보다 작으므로 실행합니다')\n",
    "else:\n",
    "    print('글자길이가 15개보다 큽니다')"
   ]
  },
  {
   "cell_type": "code",
   "execution_count": null,
   "metadata": {},
   "outputs": [],
   "source": [
    "text =input(\"BOAZ는 Bigdata is Our A to Z: \")\n",
    "if len(text)<5: \n",
    "    print(text)\n",
    "elif len(text) <15:\n",
    "    print('글자길이가 15개보다 작으므로 실행합니다.')\n",
    "else:\n",
    "    print(\"글자길이가 15보다 큽니다\")"
   ]
  },
  {
   "cell_type": "code",
   "execution_count": null,
   "metadata": {},
   "outputs": [],
   "source": []
  },
  {
   "cell_type": "code",
   "execution_count": null,
   "metadata": {},
   "outputs": [],
   "source": []
  },
  {
   "cell_type": "markdown",
   "metadata": {},
   "source": [
    "### while문 \n",
    "#### 반복해서 문장을 수행해야 할 경우 while문을 사용한다.\\\n",
    "#### 작성법\n",
    "##### while 조건문 :\n",
    "#### 수행할문장1\n",
    "#### 수행할 문장2\n",
    "#### ....."
   ]
  },
  {
   "cell_type": "code",
   "execution_count": null,
   "metadata": {},
   "outputs": [],
   "source": []
  },
  {
   "cell_type": "code",
   "execution_count": null,
   "metadata": {},
   "outputs": [],
   "source": [
    "treeHit = 0 \n",
    "tree =5\n",
    "\n",
    "while True :\n",
    "    treeHit +=1\n",
    "    tree = tree -1\n",
    "    print(\"%d번 찍음\" %treeHit)\n",
    "    if tree ==0 : \n",
    "        print(\"찍을 나무가 없습니다\")\n",
    "        break"
   ]
  },
  {
   "cell_type": "code",
   "execution_count": null,
   "metadata": {},
   "outputs": [],
   "source": []
  },
  {
   "cell_type": "code",
   "execution_count": null,
   "metadata": {},
   "outputs": [],
   "source": []
  },
  {
   "cell_type": "markdown",
   "metadata": {},
   "source": [
    "### 문제 : (열 번 찍어 안 넘어 가는 나무 없다)를 while문으로 작성해보시오"
   ]
  },
  {
   "cell_type": "markdown",
   "metadata": {},
   "source": [
    "## 함수!\n",
    "\n",
    "#### 똑같은 내용을 반복해서 작성할 때\n",
    "#### \"반복적으로 사용되는 가치 있는 부분\"을 한 뭉치로 묶어서 \"어떤 입력값을 주었을 때 어떤 결과값을 돌려준다\""
   ]
  },
  {
   "cell_type": "code",
   "execution_count": null,
   "metadata": {},
   "outputs": [],
   "source": []
  },
  {
   "cell_type": "code",
   "execution_count": null,
   "metadata": {},
   "outputs": [],
   "source": [
    "def say():\n",
    "    print('HO!')"
   ]
  },
  {
   "cell_type": "code",
   "execution_count": null,
   "metadata": {
    "scrolled": true
   },
   "outputs": [],
   "source": [
    "say()"
   ]
  },
  {
   "cell_type": "code",
   "execution_count": null,
   "metadata": {},
   "outputs": [],
   "source": [
    "BOAZ_admin = {'운영지원팀':'이시은',\n",
    "              '기획팀':'이혜원',\n",
    "              '디자인팀':'심지원',\n",
    "              '자료연구팀':'박성현',\n",
    "              '대외협력팀':'신상윤',\n",
    "              '공동대표':['김강민','최연식']}"
   ]
  },
  {
   "cell_type": "code",
   "execution_count": null,
   "metadata": {},
   "outputs": [],
   "source": [
    "def sayteamleader(b_d,team):\n",
    "    if type(b_d[team]) == str:\n",
    "        print(team+'의 팀장은 '+b_d[team]+'입니다!!')\n",
    "    else:\n",
    "        print('공동대표는 '+b_d[team][0]+'와 '+b_d[team][1]+'입니다.')    "
   ]
  },
  {
   "cell_type": "code",
   "execution_count": 40,
   "metadata": {
    "scrolled": false
   },
   "outputs": [
    {
     "name": "stdout",
     "output_type": "stream",
     "text": [
      "운영지원팀의 팀장은 이시은입니다!!\n",
      "기획팀의 팀장은 이혜원입니다!!\n",
      "디자인팀의 팀장은 심지원입니다!!\n",
      "자료연구팀의 팀장은 박성현입니다!!\n",
      "대외협력팀의 팀장은 신상윤입니다!!\n",
      "공동대표는 김강민와 최연식입니다.\n"
     ]
    }
   ],
   "source": [
    "for i in BOAZ_admin:\n",
    "    sayteamleader(BOAZ_admin,i)"
   ]
  },
  {
   "cell_type": "code",
   "execution_count": 102,
   "metadata": {},
   "outputs": [],
   "source": [
    "def sayteamleader(b_d,team):\n",
    "            print(team+'의 팀장은 '+b_d[team]+'입니다!!')"
   ]
  },
  {
   "cell_type": "code",
   "execution_count": 103,
   "metadata": {
    "scrolled": false
   },
   "outputs": [
    {
     "name": "stdout",
     "output_type": "stream",
     "text": [
      "운영지원팀의 팀장은 이시은입니다!!\n",
      "기획팀의 팀장은 이혜원입니다!!\n",
      "디자인팀의 팀장은 심지원입니다!!\n",
      "자료연구팀의 팀장은 박성현입니다!!\n",
      "대외협력팀의 팀장은 신상윤입니다!!\n"
     ]
    },
    {
     "ename": "TypeError",
     "evalue": "must be str, not list",
     "output_type": "error",
     "traceback": [
      "\u001b[1;31m---------------------------------------------------------------------------\u001b[0m",
      "\u001b[1;31mTypeError\u001b[0m                                 Traceback (most recent call last)",
      "\u001b[1;32m<ipython-input-103-fc287ca8e740>\u001b[0m in \u001b[0;36m<module>\u001b[1;34m()\u001b[0m\n\u001b[0;32m      1\u001b[0m \u001b[1;32mfor\u001b[0m \u001b[0mi\u001b[0m \u001b[1;32min\u001b[0m \u001b[0mBOAZ_admin\u001b[0m\u001b[1;33m:\u001b[0m\u001b[1;33m\u001b[0m\u001b[0m\n\u001b[1;32m----> 2\u001b[1;33m     \u001b[0msayteamleader\u001b[0m\u001b[1;33m(\u001b[0m\u001b[0mBOAZ_admin\u001b[0m\u001b[1;33m,\u001b[0m\u001b[0mi\u001b[0m\u001b[1;33m)\u001b[0m\u001b[1;33m\u001b[0m\u001b[0m\n\u001b[0m",
      "\u001b[1;32m<ipython-input-102-4bc24e485d24>\u001b[0m in \u001b[0;36msayteamleader\u001b[1;34m(b_d, team)\u001b[0m\n\u001b[0;32m      1\u001b[0m \u001b[1;32mdef\u001b[0m \u001b[0msayteamleader\u001b[0m\u001b[1;33m(\u001b[0m\u001b[0mb_d\u001b[0m\u001b[1;33m,\u001b[0m\u001b[0mteam\u001b[0m\u001b[1;33m)\u001b[0m\u001b[1;33m:\u001b[0m\u001b[1;33m\u001b[0m\u001b[0m\n\u001b[1;32m----> 2\u001b[1;33m             \u001b[0mprint\u001b[0m\u001b[1;33m(\u001b[0m\u001b[0mteam\u001b[0m\u001b[1;33m+\u001b[0m\u001b[1;34m'의 팀장은 '\u001b[0m\u001b[1;33m+\u001b[0m\u001b[0mb_d\u001b[0m\u001b[1;33m[\u001b[0m\u001b[0mteam\u001b[0m\u001b[1;33m]\u001b[0m\u001b[1;33m+\u001b[0m\u001b[1;34m'입니다!!'\u001b[0m\u001b[1;33m)\u001b[0m\u001b[1;33m\u001b[0m\u001b[0m\n\u001b[0m",
      "\u001b[1;31mTypeError\u001b[0m: must be str, not list"
     ]
    }
   ],
   "source": [
    "for i in BOAZ_admin:\n",
    "    sayteamleader(BOAZ_admin,i)"
   ]
  },
  {
   "cell_type": "code",
   "execution_count": 104,
   "metadata": {},
   "outputs": [],
   "source": [
    "def sayteamleader(b_d,team):\n",
    "        try: \n",
    "            print(team+'의 팀장은 '+b_d[team]+'입니다!!')\n",
    "        except TypeError:\n",
    "            print('공동대표는 '+b_d[team][0]+'와 '+b_d[team][1]+'입니다.') \n",
    "            \n",
    "            \n",
    "            #예외처리문\n",
    "            #"
   ]
  },
  {
   "cell_type": "code",
   "execution_count": 105,
   "metadata": {},
   "outputs": [
    {
     "name": "stdout",
     "output_type": "stream",
     "text": [
      "운영지원팀의 팀장은 이시은입니다!!\n",
      "기획팀의 팀장은 이혜원입니다!!\n",
      "디자인팀의 팀장은 심지원입니다!!\n",
      "자료연구팀의 팀장은 박성현입니다!!\n",
      "대외협력팀의 팀장은 신상윤입니다!!\n",
      "공동대표는 김강민와 최연식입니다.\n"
     ]
    }
   ],
   "source": [
    "for i in BOAZ_admin:\n",
    "    sayteamleader(BOAZ_admin,i)"
   ]
  }
 ],
 "metadata": {
  "kernelspec": {
   "display_name": "Python 3",
   "language": "python",
   "name": "python3"
  },
  "language_info": {
   "codemirror_mode": {
    "name": "ipython",
    "version": 3
   },
   "file_extension": ".py",
   "mimetype": "text/x-python",
   "name": "python",
   "nbconvert_exporter": "python",
   "pygments_lexer": "ipython3",
   "version": "3.6.5"
  }
 },
 "nbformat": 4,
 "nbformat_minor": 1
}
