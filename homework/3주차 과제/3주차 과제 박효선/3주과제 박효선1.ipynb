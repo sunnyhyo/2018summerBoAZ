{
 "cells": [
  {
   "cell_type": "code",
   "execution_count": 3,
   "metadata": {},
   "outputs": [],
   "source": [
    "from selenium import webdriver\n",
    "from bs4 import BeautifulSoup\n",
    "path=\"C:\\\\Users\\\\HS\\\\Desktop\\\\chromedriver_win32\\\\chromedriver\""
   ]
  },
  {
   "cell_type": "code",
   "execution_count": 4,
   "metadata": {},
   "outputs": [],
   "source": [
    "dr = webdriver.Chrome(path)\n",
    "url = 'https://cafe.naver.com/boazbigdata'\n",
    "dr.get(url)\n",
    "\n",
    "login = dr.find_element_by_id(\"id\")\n",
    "login.send_keys(\"idid\")\n",
    "login = dr.find_element_by_id(\"pw\")\n",
    "login.send_keys(\"pwpw\")\n",
    "dr.find_element_by_xpath('//*[@id=\"frmNIDLogin\"]/fieldset/input').click()"
   ]
  },
  {
   "cell_type": "code",
   "execution_count": 5,
   "metadata": {},
   "outputs": [],
   "source": [
    "drt = dr.page_source\n",
    "soup = BeautifulSoup(drt,'html.parser')\n",
    "study_list = soup.select('ul#group433')\n",
    "study_list\n",
    "names = study_list[0].find_all(\"a\")\n",
    "name= [names[i].get_text().strip() for i in range(0,len(names))]"
   ]
  },
  {
   "cell_type": "code",
   "execution_count": 6,
   "metadata": {},
   "outputs": [
    {
     "data": {
      "text/plain": [
       "['파이썬 기초1',\n",
       " '파이썬 기초2',\n",
       " 'sql 과 파이썬 연동',\n",
       " '선형대수1',\n",
       " 'Cs강의',\n",
       " '포스코 AI',\n",
       " 'SAS',\n",
       " 'Rshiny 심화',\n",
       " '파이썬 웹 프로그래밍',\n",
       " '일러스트레이터',\n",
       " 'R기초',\n",
       " '파이썬 심화',\n",
       " '파이썬 텍스트마이닝',\n",
       " '파이썬 크롤링',\n",
       " '딥러닝 기초',\n",
       " '인터렉티브 시각화',\n",
       " '선형대수2',\n",
       " '멘토멘티A조',\n",
       " '멘토멘티B조',\n",
       " '멘토멘티C조',\n",
       " '멘토멘티D조',\n",
       " '멘토멘티E조',\n",
       " '18-2(방학중)스터디 신청']"
      ]
     },
     "execution_count": 6,
     "metadata": {},
     "output_type": "execute_result"
    }
   ],
   "source": [
    "name"
   ]
  }
 ],
 "metadata": {
  "kernelspec": {
   "display_name": "Python 3",
   "language": "python",
   "name": "python3"
  },
  "language_info": {
   "codemirror_mode": {
    "name": "ipython",
    "version": 3
   },
   "file_extension": ".py",
   "mimetype": "text/x-python",
   "name": "python",
   "nbconvert_exporter": "python",
   "pygments_lexer": "ipython3",
   "version": "3.6.5"
  }
 },
 "nbformat": 4,
 "nbformat_minor": 2
}
