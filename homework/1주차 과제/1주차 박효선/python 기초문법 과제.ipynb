{
 "cells": [
  {
   "cell_type": "markdown",
   "metadata": {},
   "source": [
    "# Python 기초문법 과제\n",
    "Python을 사용할 때 사용되는 if문, for문, 문자열 사용, 파일 Read 위주로 문제를 출제했습니다. 데이터를 분석할 때, 위의 내용들은 자주 나오는 내용이니 잘 공부해놓으면 좋을 것 같습니다."
   ]
  },
  {
   "cell_type": "markdown",
   "metadata": {},
   "source": [
    "#### 1. 주어진 수가 짝수인지 홀수인지 판별하는 프로그램을 작성하시오. (hint : if문)"
   ]
  },
  {
   "cell_type": "code",
   "execution_count": 3,
   "metadata": {},
   "outputs": [
    {
     "name": "stdout",
     "output_type": "stream",
     "text": [
      "숫자를 입력하세요 : 4\n"
     ]
    }
   ],
   "source": [
    "# num 변수에 숫자 입력\n",
    "num = int(input(\"숫자를 입력하세요 : \"))"
   ]
  },
  {
   "cell_type": "code",
   "execution_count": 4,
   "metadata": {},
   "outputs": [
    {
     "name": "stdout",
     "output_type": "stream",
     "text": [
      "짝수입니다.\n"
     ]
    }
   ],
   "source": [
    "##### Your Code here #####\n",
    "if num%2==0:\n",
    "    print(\"짝수입니다.\")\n",
    "else:\n",
    "    print(\"홀수입니다.\")\n"
   ]
  },
  {
   "cell_type": "markdown",
   "metadata": {},
   "source": [
    "#### 2. 다음은 학생들의 혈액형(A, B, AB, O)에 대한 데이터이다.\n",
    "#### ['A', 'B', 'A', 'O', 'AB', 'AB', 'O', 'A', 'B', 'O', 'B', 'AB']\n",
    "#### 반복문을 이용하여 각 혈액형 별 학생수의 합계를 구하시오."
   ]
  },
  {
   "cell_type": "code",
   "execution_count": 6,
   "metadata": {},
   "outputs": [],
   "source": [
    "# blood 배열 선언\n",
    "blood = ['A', 'B', 'A', 'O', 'AB', 'AB', 'O', 'A', 'B', 'O', 'B', 'AB']"
   ]
  },
  {
   "cell_type": "code",
   "execution_count": 7,
   "metadata": {},
   "outputs": [],
   "source": [
    "##### Your Code here #####\n",
    "a,b,o,ab=[],[],[],[]\n",
    "for i in blood:\n",
    "    if i ==\"A\":\n",
    "        a.append(i)\n",
    "    elif i ==\"B\":\n",
    "        b.append(i)\n",
    "    elif i==\"O\":\n",
    "        o.append(i)\n",
    "    else:\n",
    "        ab.append(i)\n"
   ]
  },
  {
   "cell_type": "code",
   "execution_count": 8,
   "metadata": {},
   "outputs": [
    {
     "name": "stdout",
     "output_type": "stream",
     "text": [
      "A형: 3명\n",
      "B형: 3명\n",
      "O형: 3명\n",
      "AB형: 3명\n"
     ]
    }
   ],
   "source": [
    "print(\"A형: %d명\"%len(a))\n",
    "print(\"B형: %d명\"%len(b))\n",
    "print(\"O형: %d명\"%len(o))\n",
    "print(\"AB형: %d명\"%len(ab))   #왜..."
   ]
  },
  {
   "cell_type": "markdown",
   "metadata": {},
   "source": [
    "#### 3. 다음 문장에서 모음('aeiou')를 제거하시오. (대문자/소문자 모두 제거)\n",
    "#### BOAZ is Big data is Our A to Z."
   ]
  },
  {
   "cell_type": "code",
   "execution_count": 12,
   "metadata": {},
   "outputs": [],
   "source": [
    "# 문장 선언\n",
    "sentence = \"BOAZ is Big data is Our A to Z.\""
   ]
  },
  {
   "cell_type": "code",
   "execution_count": 9,
   "metadata": {},
   "outputs": [
    {
     "ename": "NameError",
     "evalue": "name 'sentence' is not defined",
     "output_type": "error",
     "traceback": [
      "\u001b[1;31m---------------------------------------------------------------------------\u001b[0m",
      "\u001b[1;31mNameError\u001b[0m                                 Traceback (most recent call last)",
      "\u001b[1;32m<ipython-input-9-a5ee24654f4a>\u001b[0m in \u001b[0;36m<module>\u001b[1;34m()\u001b[0m\n\u001b[0;32m      3\u001b[0m \u001b[1;33m\u001b[0m\u001b[0m\n\u001b[0;32m      4\u001b[0m \u001b[1;32mfor\u001b[0m \u001b[0mi\u001b[0m \u001b[1;32min\u001b[0m \u001b[0mrange\u001b[0m\u001b[1;33m(\u001b[0m\u001b[0mlen\u001b[0m\u001b[1;33m(\u001b[0m\u001b[0moh\u001b[0m\u001b[1;33m)\u001b[0m\u001b[1;33m)\u001b[0m\u001b[1;33m:\u001b[0m\u001b[1;33m\u001b[0m\u001b[0m\n\u001b[1;32m----> 5\u001b[1;33m     \u001b[0msentence\u001b[0m \u001b[1;33m=\u001b[0m \u001b[0msentence\u001b[0m\u001b[1;33m.\u001b[0m\u001b[0msplit\u001b[0m\u001b[1;33m(\u001b[0m\u001b[0moh\u001b[0m\u001b[1;33m[\u001b[0m\u001b[0mi\u001b[0m\u001b[1;33m]\u001b[0m\u001b[1;33m)\u001b[0m\u001b[1;33m\u001b[0m\u001b[0m\n\u001b[0m\u001b[0;32m      6\u001b[0m \u001b[1;33m\u001b[0m\u001b[0m\n\u001b[0;32m      7\u001b[0m     \u001b[0mtem\u001b[0m\u001b[1;33m=\u001b[0m\u001b[1;34m''\u001b[0m\u001b[1;33m\u001b[0m\u001b[0m\n",
      "\u001b[1;31mNameError\u001b[0m: name 'sentence' is not defined"
     ]
    }
   ],
   "source": [
    "##### Your Code here #####\n",
    "oh = ['a','A','e','E','i','I','o','O','u','U']\n",
    "\n",
    "for i in range(len(oh)):\n",
    "    sentence = sentence.split(oh[i])\n",
    "    \n",
    "    tem=''\n",
    "    for j in range(len(sentence)):\n",
    "        tem+=sentence[j]\n",
    "    sentence = tmp"
   ]
  },
  {
   "cell_type": "code",
   "execution_count": null,
   "metadata": {},
   "outputs": [],
   "source": []
  },
  {
   "cell_type": "code",
   "execution_count": 15,
   "metadata": {
    "scrolled": true
   },
   "outputs": [
    {
     "data": {
      "text/plain": [
       "'BZ s Bg dt s r  t Z.'"
      ]
     },
     "execution_count": 15,
     "metadata": {},
     "output_type": "execute_result"
    }
   ],
   "source": []
  },
  {
   "cell_type": "markdown",
   "metadata": {},
   "source": [
    "#### 4. 첫째 줄에는 별 N개, 둘째 줄에는 별 N-1개, ..., N번째 줄에는 별 1개를 출력하시오. (hint : for문)"
   ]
  },
  {
   "cell_type": "raw",
   "metadata": {},
   "source": [
    "< 예시 : N이 5일 때 >\n",
    "*\n",
    "**\n",
    "***\n",
    "****\n",
    "*****"
   ]
  },
  {
   "cell_type": "code",
   "execution_count": 22,
   "metadata": {},
   "outputs": [
    {
     "name": "stdout",
     "output_type": "stream",
     "text": [
      "숫자를 입력하세요 : 5\n"
     ]
    }
   ],
   "source": [
    "n = int(input(\"숫자를 입력하세요 : \"))"
   ]
  },
  {
   "cell_type": "code",
   "execution_count": 23,
   "metadata": {},
   "outputs": [
    {
     "name": "stdout",
     "output_type": "stream",
     "text": [
      "줄바꿈 없이 출력하고 싶어요.줄바꿈 없이 출력되었어요.\n",
      "줄이 바뀌었네요.\n"
     ]
    }
   ],
   "source": [
    "##### 추가 Hint : 줄바꿈 없이 문자열을 출력하는 방법 #####\n",
    "print(\"줄바꿈 없이 출력하고 싶어요.\", end=\"\")\n",
    "print(\"줄바꿈 없이 출력되었어요.\")\n",
    "print(\"줄이 바뀌었네요.\")"
   ]
  },
  {
   "cell_type": "code",
   "execution_count": 24,
   "metadata": {},
   "outputs": [
    {
     "name": "stdout",
     "output_type": "stream",
     "text": [
      "*****\n",
      "****\n",
      "***\n",
      "**\n",
      "*\n"
     ]
    }
   ],
   "source": [
    "##### Your Code here #####\n",
    "\n",
    "for i in range(0,n):\n",
    "    print(\"*\"*(n-i))\n"
   ]
  },
  {
   "cell_type": "code",
   "execution_count": 22,
   "metadata": {},
   "outputs": [
    {
     "name": "stdout",
     "output_type": "stream",
     "text": [
      "*\n",
      "**\n",
      "***\n",
      "****\n",
      "*****\n"
     ]
    }
   ],
   "source": []
  },
  {
   "cell_type": "markdown",
   "metadata": {},
   "source": [
    "#### 5. sample.txt 파일을 읽고, 숫자 10개를 모두 읽어 총합, 평균값, 최댓값, 최솟값을 각각 구하시오.\n",
    "#### (hint : 숫자를 꼭 int형으로 강제 형변환할 것)"
   ]
  },
  {
   "cell_type": "raw",
   "metadata": {},
   "source": [
    "< sample.txt 파일 내용>\n",
    "35\n",
    "45\n",
    "85\n",
    "90\n",
    "99\n",
    "100\n",
    "40\n",
    "42\n",
    "67\n",
    "77"
   ]
  },
  {
   "cell_type": "code",
   "execution_count": 27,
   "metadata": {
    "scrolled": true
   },
   "outputs": [
    {
     "name": "stdout",
     "output_type": "stream",
     "text": [
      "35\n",
      "45\n",
      "85\n",
      "90\n",
      "99\n",
      "100\n",
      "40\n",
      "42\n",
      "67\n",
      "77\n"
     ]
    }
   ],
   "source": [
    "##### 파일 읽는 방법 #####\n",
    "file = open(\"sample.txt\")\n",
    "lines = file.readlines()\n",
    "for line in lines:\n",
    "    print(int(line))\n",
    "file.close()"
   ]
  },
  {
   "cell_type": "code",
   "execution_count": 4,
   "metadata": {},
   "outputs": [],
   "source": [
    "##### Your Code here #####\n",
    "\n",
    "f = open(\"sample.txt\")\n",
    "lines = f.readlines()\n",
    "oh=[]\n",
    "for line in lines:\n",
    "    oh.append(int(line))\n",
    "f.close()"
   ]
  },
  {
   "cell_type": "code",
   "execution_count": 11,
   "metadata": {},
   "outputs": [
    {
     "name": "stdout",
     "output_type": "stream",
     "text": [
      "총합 : 680\n",
      "평균값 : 68.0\n",
      "최댓값 : 100\n",
      "최솟값 : 35\n"
     ]
    }
   ],
   "source": [
    "print(\"총합 : %s\" %sum(oh))\n",
    "print(\"평균값 : %s\" %(sum(oh)/len(oh)))\n",
    "print(\"최댓값 : %s\" %max(oh))\n",
    "print(\"최솟값 : %s\" %min(oh))\n"
   ]
  },
  {
   "cell_type": "code",
   "execution_count": 35,
   "metadata": {},
   "outputs": [
    {
     "name": "stdout",
     "output_type": "stream",
     "text": [
      "총합 :  680\n",
      "평균값 :  68.0\n",
      "최댓값 :  100\n",
      "최솟값 :  35\n"
     ]
    }
   ],
   "source": []
  }
 ],
 "metadata": {
  "kernelspec": {
   "display_name": "Python 3",
   "language": "python",
   "name": "python3"
  },
  "language_info": {
   "codemirror_mode": {
    "name": "ipython",
    "version": 3
   },
   "file_extension": ".py",
   "mimetype": "text/x-python",
   "name": "python",
   "nbconvert_exporter": "python",
   "pygments_lexer": "ipython3",
   "version": "3.6.5"
  }
 },
 "nbformat": 4,
 "nbformat_minor": 2
}
