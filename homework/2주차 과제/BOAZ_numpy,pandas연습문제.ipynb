{
 "cells": [
  {
   "cell_type": "markdown",
   "metadata": {
    "colab_type": "text",
    "id": "hRcFsIfjmLDZ"
   },
   "source": [
    "## Import libraries (Numpy & Pandas)"
   ]
  },
  {
   "cell_type": "code",
   "execution_count": 1,
   "metadata": {
    "colab": {
     "autoexec": {
      "startup": false,
      "wait_interval": 0
     }
    },
    "colab_type": "code",
    "id": "2YycK0gCTI34"
   },
   "outputs": [],
   "source": [
    "from pandas import Series, DataFrame\n",
    "import pandas as pd\n",
    "import numpy as np"
   ]
  },
  {
   "cell_type": "markdown",
   "metadata": {
    "colab_type": "text",
    "id": "Jp84rhv6TI31"
   },
   "source": [
    "## 문제 1. DataFrame 다루기 "
   ]
  },
  {
   "cell_type": "markdown",
   "metadata": {
    "colab_type": "text",
    "id": "aFW538dqTI33"
   },
   "source": [
    "### a) DataFrame으로 위와 같은 자료를 만드시오. 컬럼 이름은 numbers, 로우 네임은 a~d, 값은 10~40\n",
    "\n",
    "   | numbers |\n",
    "----- | ------ \n",
    "a  | 10 \n",
    "b  | 20 \n",
    "c  | 30 \n",
    "d  | 40 "
   ]
  },
  {
   "cell_type": "code",
   "execution_count": 0,
   "metadata": {
    "colab": {
     "autoexec": {
      "startup": false,
      "wait_interval": 0
     }
    },
    "colab_type": "code",
    "id": "aO5IWrujXvFW"
   },
   "outputs": [],
   "source": [
    "np.DataFrame()"
   ]
  },
  {
   "cell_type": "markdown",
   "metadata": {
    "colab_type": "text",
    "id": "Od3B4RysTI38"
   },
   "source": [
    "### b) c 로우의 값을 가져오시오 ( Hint: df.loc[])"
   ]
  },
  {
   "cell_type": "markdown",
   "metadata": {
    "colab_type": "text",
    "id": "eYnGTCxBTI3_"
   },
   "source": [
    "### c) a, d 로우들의 값을 가져오시오."
   ]
  },
  {
   "cell_type": "markdown",
   "metadata": {
    "colab_type": "text",
    "id": "sGuIbhKJTI4C"
   },
   "source": [
    "### d) numbers의 합을 구하시오."
   ]
  },
  {
   "cell_type": "markdown",
   "metadata": {
    "colab_type": "text",
    "id": "SxMcEIWpqyls"
   },
   "source": []
  },
  {
   "cell_type": "markdown",
   "metadata": {
    "colab_type": "text",
    "id": "IwISDfsWTI4E"
   },
   "source": [
    "### e) numbers의 값들을 각각 제곱하시오<br>아래와 같은결과가 나와야 합니다 (hint - df[numbers] = ... )\n",
    "<br>\n",
    "\n",
    "  | numbers |\n",
    "----- | ------ \n",
    "a  | 100 \n",
    "b  | 400 \n",
    "c  | 900 \n",
    "d  | 1600 "
   ]
  },
  {
   "cell_type": "markdown",
   "metadata": {
    "colab_type": "text",
    "id": "jAzXCY1iTI4P"
   },
   "source": [
    "### g) floats라는 이름의 칼럼을 추가하시오. 값은 1.5, 2.5, 3.5, 4.5<br>아래와 같은 결과가 나와야 합니다\n",
    "\n",
    "<br>\n",
    "\n",
    "| numbers | floats\n",
    "----- | ------ | ------\n",
    "a  | 10 | 1.5\n",
    "b  | 20 | 2.5\n",
    "c  | 30 | 3.5\n",
    "d  | 40 | 4.5"
   ]
  }
 ],
 "metadata": {
  "colab": {
   "collapsed_sections": [
    "Od3B4RysTI38",
    "eYnGTCxBTI3_",
    "IwISDfsWTI4E"
   ],
   "default_view": {},
   "name": "BOAZ  numpy,pandas연습문제.ipynb",
   "provenance": [
    {
     "file_id": "1nN_t2H78mM-jPNseZrGzGQa2_QxYqKvL",
     "timestamp": 1531919695309
    },
    {
     "file_id": "1Q0ixcXoagy189xAOW0uo7L8UlH34g1Ny",
     "timestamp": 1524384052534
    }
   ],
   "version": "0.3.2",
   "views": {}
  },
  "kernelspec": {
   "display_name": "Python 3",
   "language": "python",
   "name": "python3"
  },
  "language_info": {
   "codemirror_mode": {
    "name": "ipython",
    "version": 3
   },
   "file_extension": ".py",
   "mimetype": "text/x-python",
   "name": "python",
   "nbconvert_exporter": "python",
   "pygments_lexer": "ipython3",
   "version": "3.6.5"
  }
 },
 "nbformat": 4,
 "nbformat_minor": 1
}
