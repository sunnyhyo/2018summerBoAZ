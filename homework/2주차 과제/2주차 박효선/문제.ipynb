{
 "cells": [
  {
   "cell_type": "markdown",
   "metadata": {},
   "source": [
    "# 새벽에 하는 pandas"
   ]
  },
  {
   "cell_type": "code",
   "execution_count": 1,
   "metadata": {},
   "outputs": [],
   "source": [
    "import pandas as pd"
   ]
  },
  {
   "cell_type": "code",
   "execution_count": 3,
   "metadata": {},
   "outputs": [
    {
     "data": {
      "text/html": [
       "<div>\n",
       "<style scoped>\n",
       "    .dataframe tbody tr th:only-of-type {\n",
       "        vertical-align: middle;\n",
       "    }\n",
       "\n",
       "    .dataframe tbody tr th {\n",
       "        vertical-align: top;\n",
       "    }\n",
       "\n",
       "    .dataframe thead th {\n",
       "        text-align: right;\n",
       "    }\n",
       "</style>\n",
       "<table border=\"1\" class=\"dataframe\">\n",
       "  <thead>\n",
       "    <tr style=\"text-align: right;\">\n",
       "      <th></th>\n",
       "      <th>name</th>\n",
       "      <th>지분</th>\n",
       "      <th>왕이될상</th>\n",
       "    </tr>\n",
       "  </thead>\n",
       "  <tbody>\n",
       "    <tr>\n",
       "      <th>0</th>\n",
       "      <td>철강왕</td>\n",
       "      <td>10</td>\n",
       "      <td>yes</td>\n",
       "    </tr>\n",
       "    <tr>\n",
       "      <th>1</th>\n",
       "      <td>이미지왕</td>\n",
       "      <td>20</td>\n",
       "      <td>no</td>\n",
       "    </tr>\n",
       "    <tr>\n",
       "      <th>2</th>\n",
       "      <td>소리왕</td>\n",
       "      <td>30</td>\n",
       "      <td>yes</td>\n",
       "    </tr>\n",
       "    <tr>\n",
       "      <th>3</th>\n",
       "      <td>농사왕</td>\n",
       "      <td>40</td>\n",
       "      <td>no</td>\n",
       "    </tr>\n",
       "    <tr>\n",
       "      <th>4</th>\n",
       "      <td>데이터왕</td>\n",
       "      <td>50</td>\n",
       "      <td>yes</td>\n",
       "    </tr>\n",
       "  </tbody>\n",
       "</table>\n",
       "</div>"
      ],
      "text/plain": [
       "   name  지분 왕이될상\n",
       "0   철강왕  10  yes\n",
       "1  이미지왕  20   no\n",
       "2   소리왕  30  yes\n",
       "3   농사왕  40   no\n",
       "4  데이터왕  50  yes"
      ]
     },
     "execution_count": 3,
     "metadata": {},
     "output_type": "execute_result"
    }
   ],
   "source": [
    "df = pd.DataFrame({'name' : ['철강왕','이미지왕','소리왕', '농사왕','데이터왕'],\n",
    "                    '지분': [10, 20, 30, 40, 50],\n",
    "                    '왕이될상': ['yes', 'no', 'yes', 'no', 'yes']\n",
    "                    },  columns= ['name','지분', '왕이될상'])\n",
    "df"
   ]
  },
  {
   "cell_type": "markdown",
   "metadata": {},
   "source": [
    "# Q1:BOAZ 시리즈중에서 왕이될 상이면서 and 지분이 30이 넘는 후보를 구하세요."
   ]
  },
  {
   "cell_type": "code",
   "execution_count": 4,
   "metadata": {},
   "outputs": [
    {
     "name": "stdout",
     "output_type": "stream",
     "text": [
      "데이터왕\n"
     ]
    }
   ],
   "source": [
    "for i in range(len(df)):\n",
    "    if df[\"왕이될상\"][i]=='yes' and df['지분'][i]>30:\n",
    "        print(df['name'][i])"
   ]
  },
  {
   "cell_type": "markdown",
   "metadata": {},
   "source": [
    "# Q2: 데이터의 row 수, column수, 정보, 일괄통계를 알아보세요"
   ]
  },
  {
   "cell_type": "code",
   "execution_count": 5,
   "metadata": {},
   "outputs": [
    {
     "name": "stdout",
     "output_type": "stream",
     "text": [
      "row 수: 5\n",
      "column 수: 3\n",
      "              지분\n",
      "count   5.000000\n",
      "mean   30.000000\n",
      "std    15.811388\n",
      "min    10.000000\n",
      "25%    20.000000\n",
      "50%    30.000000\n",
      "75%    40.000000\n",
      "max    50.000000\n"
     ]
    }
   ],
   "source": [
    "print('row 수:',df.shape[0])\n",
    "print('column 수:',df.shape[1])\n",
    "print(df.describe())"
   ]
  },
  {
   "cell_type": "code",
   "execution_count": null,
   "metadata": {},
   "outputs": [],
   "source": []
  }
 ],
 "metadata": {
  "kernelspec": {
   "display_name": "Python 3",
   "language": "python",
   "name": "python3"
  },
  "language_info": {
   "codemirror_mode": {
    "name": "ipython",
    "version": 3
   },
   "file_extension": ".py",
   "mimetype": "text/x-python",
   "name": "python",
   "nbconvert_exporter": "python",
   "pygments_lexer": "ipython3",
   "version": "3.6.5"
  }
 },
 "nbformat": 4,
 "nbformat_minor": 2
}
