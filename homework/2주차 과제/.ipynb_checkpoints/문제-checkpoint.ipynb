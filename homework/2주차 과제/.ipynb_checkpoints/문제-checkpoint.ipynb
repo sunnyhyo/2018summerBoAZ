{
 "cells": [
  {
   "cell_type": "markdown",
   "metadata": {},
   "source": [
    "# 새벽에 하는 pandas"
   ]
  },
  {
   "cell_type": "code",
   "execution_count": 1,
   "metadata": {},
   "outputs": [],
   "source": [
    "import pandas as pd"
   ]
  },
  {
   "cell_type": "code",
   "execution_count": 2,
   "metadata": {},
   "outputs": [],
   "source": [
    "df = pd.DataFrame({'name' : ['철강왕','이미지왕','소리왕', '농사왕','데이터왕'],\n",
    "                    '지분': [10, 20, 30, 40, 50],\n",
    "                    '왕이될상': ['yes', 'no', 'yes', 'no', 'yes']\n",
    "                    },  columns= ['name','지분', '왕이될상'])"
   ]
  },
  {
   "cell_type": "markdown",
   "metadata": {},
   "source": [
    "# Q1:BOAZ 시리즈중에서 왕이될 상이면서 and 지분이 30이 넘는 후보를 구하세요."
   ]
  },
  {
   "cell_type": "markdown",
   "metadata": {},
   "source": [
    "# Q2: 데이터의 row 수, column수, 정보, 일괄통계를 알아보세요"
   ]
  },
  {
   "cell_type": "code",
   "execution_count": null,
   "metadata": {},
   "outputs": [],
   "source": []
  }
 ],
 "metadata": {
  "kernelspec": {
   "display_name": "Python 3",
   "language": "python",
   "name": "python3"
  },
  "language_info": {
   "codemirror_mode": {
    "name": "ipython",
    "version": 3
   },
   "file_extension": ".py",
   "mimetype": "text/x-python",
   "name": "python",
   "nbconvert_exporter": "python",
   "pygments_lexer": "ipython3",
   "version": "3.6.5"
  }
 },
 "nbformat": 4,
 "nbformat_minor": 2
}
