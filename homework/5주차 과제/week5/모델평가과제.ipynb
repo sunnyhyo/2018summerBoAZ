{
 "cells": [
  {
   "cell_type": "markdown",
   "metadata": {},
   "source": [
    "### 모델 평가 및 검증 과제"
   ]
  },
  {
   "cell_type": "markdown",
   "metadata": {},
   "source": [
    "---\n",
    "- 다음의 자료를 가지고 간단히 모델 평가를 해보는 과제입니다.\n",
    "- 맨 마지막 변수인 Class를 예측하는 것이 목표입니다.\n",
    "---"
   ]
  },
  {
   "cell_type": "code",
   "execution_count": null,
   "metadata": {},
   "outputs": [],
   "source": [
    "from sklearn.model_selection import train_test_split\n",
    "import pandas as pd\n",
    "\n",
    "df = pd.read_csv(\"./fraud_data.csv\") # path를 바꿔주세요.\n",
    "df.head()\n"
   ]
  },
  {
   "cell_type": "code",
   "execution_count": null,
   "metadata": {},
   "outputs": [],
   "source": [
    "\n",
    "# X와 y를 나누기 위해 아래 []안의 조건을 넣어보세요.\n",
    "X = df.iloc[:,:-1]\n",
    "y = df.iloc[:,:-1]\n",
    "\n",
    "# 이제 X와 y를 train, test set로 나눠보세요. (모두의 결과물이 같기 위해 random state는 0으로 해주세요.)\n",
    "X_train, X_test, y_train, y_test = train_test_split(X,y,random_state=0)"
   ]
  },
  {
   "cell_type": "markdown",
   "metadata": {},
   "source": [
    "---\n",
    "- dummy classifier를 학습시켜 무조건 샘플 숫자가 더 많은 경우로 예측하도록 해보세요. accuracy와 recall도 구해보세요.\n",
    "\n",
    "- 함수의 결과물은 다음과 같아야 합니다: `(accuracy score, recall score)`\n",
    "---"
   ]
  },
  {
   "cell_type": "code",
   "execution_count": null,
   "metadata": {},
   "outputs": [],
   "source": [
    "def first():\n",
    "    from sklearn.dummy import DummyClassifier\n",
    "    from sklearn.metrics import recall_score\n",
    "    \n",
    "    # 이곳에만 코드를 채우시면 됩니다.\n",
    "    clf = DummyClassifier()\n",
    "    clf.fit(X_train, y_train) # 이곳은 건드릴 필요X\n",
    "    predictions = clf.predict(X_test)\n",
    "    score = accuracy_score(y_test, predictions)\n",
    "    recall_score = recall_score(y_test, predictions)\n",
    "\n",
    "    \n",
    "    return score, recall_score # 정답 리턴\n",
    "\n",
    "first()"
   ]
  },
  {
   "cell_type": "markdown",
   "metadata": {},
   "source": [
    "---\n",
    "- SVC classifer를 default parameters로 세팅하고(옵션 건드릴 필요 X) 모델의 accuracy, recall, 그리고 precision을 측정해보세요. \n",
    "\n",
    "- 함수의 결과물은 다음과 같아야 합니다: `(accuracy score, recall score, precision score)`\n",
    "---"
   ]
  },
  {
   "cell_type": "code",
   "execution_count": null,
   "metadata": {},
   "outputs": [],
   "source": [
    "def second():\n",
    "    from sklearn.metrics import recall_score, precision_score, accuracy_score\n",
    "    from sklearn.svm import SVC\n",
    "\n",
    "    # 이곳에만 코드를 채우시면 됩니다.\n",
    "    clf = SVC()\n",
    "    clf.fit(X_train, y_train) # 이곳은 건드릴 필요X\n",
    "    predictions = clf.predict(X_test)\n",
    "    score = accuracy_score(y_test, predictions)\n",
    "    recall_score = recall_score(y_test, predictions)\n",
    "    precision_score = precision_score(y_test, predictions)\n",
    "    \n",
    "    return score, recall_score, precision_score # 정답 리턴\n",
    "\n",
    "second()"
   ]
  },
  {
   "cell_type": "markdown",
   "metadata": {},
   "source": [
    "---\n",
    "- SVC classifier의 옵션을 `{'C': 1e9, 'gamma': 1e-07}`으로 설정했을 떄\n",
    "- decision function의 threshold를 -220으로 두었다면 confusion matrix는 어떻게 출력될까요?\n",
    "- X-test와 y_test를 활용하세요.\n",
    "\n",
    "- 함수는 2X2의 numpy array 형태, 즉 2X2의 confusion matrix를 출력해야 합니다.\n",
    "---"
   ]
  },
  {
   "cell_type": "code",
   "execution_count": null,
   "metadata": {},
   "outputs": [],
   "source": [
    "def third():\n",
    "    from sklearn.metrics import confusion_matrix\n",
    "    from sklearn.svm import SVC\n",
    "\n",
    "    # 이곳에만 코드를 채우시면 됩니다.\n",
    "    clf = SVC(C= 1e9, gamma = 1e-07)\n",
    "    clf.fit(X_train, y_train) # 이곳은 건드릴 필요X\n",
    "    y_scores = clf.decision_function(X_test) > -220\n",
    "    confusion_matrix = confusion_matrix(y_test,y_scores)\n",
    "\n",
    "    return confusion_matrix # 정답 리턴\n",
    "\n",
    "third()"
   ]
  },
  {
   "cell_type": "code",
   "execution_count": null,
   "metadata": {},
   "outputs": [],
   "source": []
  }
 ],
 "metadata": {
  "kernelspec": {
   "display_name": "Python 3",
   "language": "python",
   "name": "python3"
  },
  "language_info": {
   "codemirror_mode": {
    "name": "ipython",
    "version": 3
   },
   "file_extension": ".py",
   "mimetype": "text/x-python",
   "name": "python",
   "nbconvert_exporter": "python",
   "pygments_lexer": "ipython3",
   "version": "3.6.5"
  }
 },
 "nbformat": 4,
 "nbformat_minor": 2
}
