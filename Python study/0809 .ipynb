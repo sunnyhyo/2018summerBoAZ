{
 "cells": [
  {
   "cell_type": "code",
   "execution_count": 3,
   "metadata": {},
   "outputs": [],
   "source": [
    "text = \"\"\"the grown-ups' response, this time, was to advise me to lay aside my drawings of boa constrictors, \n",
    "whether from the inside or the outside, and devote myself instead to geography, history, arithmetic, and grammar. \n",
    "That is why, at the, age of six, I gave up what might have been a magnificent career as a painter. \n",
    "I had been disheartened by the failure of my Drawing Number One and my Drawing Number Two. \n",
    "Grown-ups never understand anything by themselves, and it is tiresome for children to be always and forever \n",
    "explaining things to the.\"\"\"\n"
   ]
  },
  {
   "cell_type": "code",
   "execution_count": 4,
   "metadata": {
    "scrolled": true
   },
   "outputs": [
    {
     "name": "stdout",
     "output_type": "stream",
     "text": [
      "the grown-ups' response this time was to advise me to lay aside my drawings of boa constrictors \n",
      "whether from the inside or the outside and devote myself instead to geography history arithmetic and grammar \n",
      "That is why at the age of six I gave up what might have been a magnificent career as a painter \n",
      "I had been disheartened by the failure of my Drawing Number One and my Drawing Number Two \n",
      "Grown-ups never understand anything by themselves and it is tiresome for children to be always and forever \n",
      "explaining things to the\n"
     ]
    },
    {
     "data": {
      "text/plain": [
       "6"
      ]
     },
     "execution_count": 4,
     "metadata": {},
     "output_type": "execute_result"
    }
   ],
   "source": [
    "#the 갯수찾기\n",
    "#text = input()\n",
    "while ('.' in text) and (',' in text): \n",
    "    text = text.replace(',','').replace('.','')\n",
    "print(text)\n",
    "text_l = text.split(' ')\n",
    "count = text_l.count('the')\n",
    "count"
   ]
  },
  {
   "cell_type": "code",
   "execution_count": 13,
   "metadata": {},
   "outputs": [
    {
     "data": {
      "text/plain": [
       "61"
      ]
     },
     "execution_count": 13,
     "metadata": {},
     "output_type": "execute_result"
    }
   ],
   "source": [
    "x = dict(zip(range(1, 62), [str(i) for i in range(174, 235)]))\n",
    "x\n",
    "len(x)"
   ]
  },
  {
   "cell_type": "code",
   "execution_count": 15,
   "metadata": {},
   "outputs": [
    {
     "name": "stdout",
     "output_type": "stream",
     "text": [
      "575.6\n",
      "60\n"
     ]
    }
   ],
   "source": [
    "camille = {\n",
    "    'health': 575.6,\n",
    "    'health_regen': 1.7,\n",
    "    'mana': 338.8,\n",
    "    'mana_regen': 1.63,\n",
    "    'melee': 125,\n",
    "    'attack_damage': 60,\n",
    "    'attack_speed': 0.625,\n",
    "    'armor': 26,\n",
    "    'magic_resistance': 32.1,\n",
    "    'movement_speed': 340\n",
    "}\n",
    " \n",
    "print(camille['health'])\n",
    "print(camille['attack_damage'] )"
   ]
  },
  {
   "cell_type": "code",
   "execution_count": 24,
   "metadata": {},
   "outputs": [
    {
     "name": "stdout",
     "output_type": "stream",
     "text": [
      "health health_regen mana mana_regen \n",
      "575.6 1.7 338.8 1.63\n",
      "{'health': 575.6, 'health_regen': 1.7, 'mana': 338.8, 'mana_regen': 1.63}\n"
     ]
    }
   ],
   "source": [
    "a= input().split()\n",
    "b= list(map(float, input().split()))\n",
    "print(dict(zip(a,b)))"
   ]
  },
  {
   "cell_type": "code",
   "execution_count": 23,
   "metadata": {},
   "outputs": [
    {
     "name": "stdout",
     "output_type": "stream",
     "text": [
      "['health', 'health_regen', 'mana', 'mana_regen']\n",
      "575.6 1.7 338.8 1.63\n",
      "[575.6, 1.7, 338.8, 1.63]\n"
     ]
    }
   ],
   "source": [
    "print(a)\n",
    "b= list(map(float, input().split()))\n",
    "print(b)"
   ]
  },
  {
   "cell_type": "code",
   "execution_count": 25,
   "metadata": {},
   "outputs": [
    {
     "data": {
      "text/plain": [
       "{'a': None, 'b': None, 'c': None, 'd': None}"
      ]
     },
     "execution_count": 25,
     "metadata": {},
     "output_type": "execute_result"
    }
   ],
   "source": [
    "keys = ['a', 'b', 'c', 'd']\n",
    "x = {key: value for key, value in dict.fromkeys(keys).items()}\n",
    "x"
   ]
  },
  {
   "cell_type": "code",
   "execution_count": 27,
   "metadata": {},
   "outputs": [
    {
     "data": {
      "text/plain": [
       "{'a': 10, 'b': 20, 'c': 30}"
      ]
     },
     "execution_count": 27,
     "metadata": {},
     "output_type": "execute_result"
    }
   ],
   "source": [
    "x = {'a': 10, 'b': 20, 'c': 30, 'd': 40}\n",
    "x = {key:value for key, value in x.items() if value != 40}\n",
    "x = {key: value for key, value in x.items() if value != 40}\n",
    "x"
   ]
  },
  {
   "cell_type": "code",
   "execution_count": 29,
   "metadata": {},
   "outputs": [
    {
     "data": {
      "text/plain": [
       "89.25"
      ]
     },
     "execution_count": 29,
     "metadata": {},
     "output_type": "execute_result"
    }
   ],
   "source": [
    "maria = {'korean': 94, 'english ': 91, 'mathematics': 89, 'science': 83}\n",
    "avg = sum(maria.values()) / len(maria)\n",
    "avg"
   ]
  },
  {
   "cell_type": "code",
   "execution_count": null,
   "metadata": {},
   "outputs": [],
   "source": [
    "keys = input().split()\n",
    "values = map(int, input().split())\n",
    " \n",
    "x = dict(zip(keys, values))\n",
    "#x.pop('delta')\n",
    "del x['delta']\n",
    "#x=  {key:value for key, value in x.items() if key != 'delta'}\n",
    "x=  {key:value for key, value in x.items() if value != 30}\n",
    "print(x)"
   ]
  },
  {
   "cell_type": "code",
   "execution_count": null,
   "metadata": {},
   "outputs": [],
   "source": [
    "keys = input().split()\n",
    "values = map(float, input().split())\n",
    "x = dict(zip(keys, values))\n",
    "del x['delta']\n",
    "x=  {key:value for key, value in x.items() if value != 30}\n",
    "print(x)"
   ]
  },
  {
   "cell_type": "code",
   "execution_count": null,
   "metadata": {},
   "outputs": [],
   "source": []
  }
 ],
 "metadata": {
  "kernelspec": {
   "display_name": "Python 3",
   "language": "python",
   "name": "python3"
  },
  "language_info": {
   "codemirror_mode": {
    "name": "ipython",
    "version": 3
   },
   "file_extension": ".py",
   "mimetype": "text/x-python",
   "name": "python",
   "nbconvert_exporter": "python",
   "pygments_lexer": "ipython3",
   "version": "3.6.5"
  }
 },
 "nbformat": 4,
 "nbformat_minor": 2
}
